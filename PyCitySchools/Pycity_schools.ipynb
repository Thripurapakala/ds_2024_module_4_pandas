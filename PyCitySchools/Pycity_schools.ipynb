{
 "cells": [
  {
   "cell_type": "markdown",
   "id": "e0fc3136",
   "metadata": {},
   "source": [
    "# PyCity Schools Analysis"
   ]
  },
  {
   "cell_type": "code",
   "execution_count": null,
   "id": "068e7ae8",
   "metadata": {},
   "outputs": [],
   "source": [
    "# Dependencies and Setup\n",
    "import pandas as pd\n",
    "\n",
    "# File to Load \n",
    "filepath1 = \"Resources/schools_complete.csv\"\n",
    "filepath2 = \"Resources/students_complete.csv\"\n",
    "\n",
    "# Read School and Student Data File and store into Pandas DataFrames\n",
    "df_school = pd.read_csv(filepath1)\n",
    "df_student = pd.read_csv(filepath2)\n"
   ]
  },
  {
   "cell_type": "code",
   "execution_count": null,
   "id": "e3d78a59",
   "metadata": {},
   "outputs": [],
   "source": [
    "# Combine the data into a single dataset.\n",
    "merge_student_school = pd.merge(df_student,df_school, how = \"left\",on = \"school_name\")\n",
    "merge_student_school.head()"
   ]
  },
  {
   "cell_type": "code",
   "execution_count": null,
   "id": "38c6ca55",
   "metadata": {},
   "outputs": [],
   "source": [
    "print(merge_student_school.shape)\n",
    "merge_student_school.info()"
   ]
  },
  {
   "cell_type": "markdown",
   "id": "9e50f283",
   "metadata": {},
   "source": [
    "# District Summary\n"
   ]
  },
  {
   "cell_type": "code",
   "execution_count": null,
   "id": "637b6a46",
   "metadata": {},
   "outputs": [],
   "source": [
    "# Calculate the total number of unique schools\n",
    "school_count = merge_student_school.school_name.nunique()\n",
    "school_count"
   ]
  },
  {
   "cell_type": "code",
   "execution_count": null,
   "id": "fda4cfe7",
   "metadata": {},
   "outputs": [],
   "source": [
    "# Calculate the total number of students\n",
    "\n",
    "total_student = merge_student_school[\"Student ID\"].count()\n",
    "total_student"
   ]
  },
  {
   "cell_type": "code",
   "execution_count": null,
   "id": "32e5aef5",
   "metadata": {},
   "outputs": [],
   "source": [
    "# Calculate the total budget\n",
    "total_budget = df_school.budget.sum()\n",
    "total_budget"
   ]
  },
  {
   "cell_type": "code",
   "execution_count": null,
   "id": "111ef0a2",
   "metadata": {},
   "outputs": [],
   "source": [
    "# Calculate the average (mean) math score\n",
    "avg_math_score =  merge_student_school.math_score.mean()\n",
    "avg_math_score"
   ]
  },
  {
   "cell_type": "code",
   "execution_count": null,
   "id": "cd67035f",
   "metadata": {},
   "outputs": [],
   "source": [
    "# Calculate the average (mean) reading score\n",
    "avg_reading_score = merge_student_school.reading_score.mean()\n",
    "avg_reading_score"
   ]
  },
  {
   "cell_type": "code",
   "execution_count": null,
   "id": "87f6841b",
   "metadata": {},
   "outputs": [],
   "source": [
    "#calculate the percentage of students who passed math (math scores greather than or equal to 70)\n",
    "\n",
    "pass_math_gt70 = merge_student_school[merge_student_school[\"math_score\"] >= 70]\n",
    "pass_math_percent = pass_math_gt70.math_score.count()/merge_student_school[\"Student ID\"].count() * 100\n",
    "pass_math_percent"
   ]
  },
  {
   "cell_type": "code",
   "execution_count": null,
   "id": "072c267c",
   "metadata": {},
   "outputs": [],
   "source": [
    "# Calculate the percentage of students who passed reading \n",
    "\n",
    "pass_reading_gt70 = merge_student_school[merge_student_school[\"reading_score\"] >= 70].count()[\"reading_score\"]\n",
    "pass_reading_percent = pass_reading_gt70 / total_student * 100\n",
    "pass_reading_percent"
   ]
  },
  {
   "cell_type": "code",
   "execution_count": null,
   "id": "e44e45e6",
   "metadata": {},
   "outputs": [],
   "source": [
    "#calculate the percentage of students that passed math and reading\n",
    "\n",
    "passing_math_reading_count = merge_student_school.loc[(merge_student_school.math_score >= 70) & (merge_student_school.reading_score >= 70)].count()[\"student_name\"]\n",
    "overall_pass_math_reading_rate = passing_math_reading_count / total_student * 100\n",
    "\n",
    "overall_pass_math_reading_rate"
   ]
  },
  {
   "cell_type": "code",
   "execution_count": null,
   "id": "b42b0083",
   "metadata": {},
   "outputs": [],
   "source": [
    "# Create a high-level snapshot of the district's key metrics in a DataFrame\n",
    "district_summary_data = {\n",
    "    \"Total Schools\": [school_count],\n",
    "    \"Total Students\" : [total_student],\n",
    "    \"Total Budget\" :[ total_budget],\n",
    "    \"Average Math Score\" : [avg_math_score],\n",
    "    \"Average Reading Score\" : [avg_reading_score],\n",
    "    \"% Passing Math\": [pass_math_percent],\n",
    "    \"% Passing Reading\" : [pass_reading_percent],\n",
    "    \"% Overall Passing\" : [overall_pass_math_reading_rate]   \n",
    "    }\n",
    "\n",
    "district_summary = pd.DataFrame(district_summary_data)\n",
    "\n",
    "# # Formatting\n",
    "district_summary[\"Total Students\"] = district_summary[\"Total Students\"].map(\"{:,}\".format)\n",
    "district_summary[\"Total Budget\"] = district_summary[\"Total Budget\"].map(\"${:,.2f}\".format)\n",
    "\n",
    "\n",
    "# Display the DataFrame\n",
    "district_summary\n"
   ]
  },
  {
   "cell_type": "markdown",
   "id": "494744ea",
   "metadata": {},
   "source": [
    "# School Summary\n"
   ]
  },
  {
   "cell_type": "code",
   "execution_count": null,
   "id": "788e8199",
   "metadata": {},
   "outputs": [],
   "source": [
    "df_school.info()"
   ]
  },
  {
   "cell_type": "code",
   "execution_count": null,
   "id": "ccf9aeee",
   "metadata": {},
   "outputs": [],
   "source": [
    "#School name \n",
    "school_names=df_school.set_index([\"School ID\"])[\"school_name\"]\n",
    "school_names"
   ]
  },
  {
   "cell_type": "code",
   "execution_count": null,
   "id": "0f9bbae0",
   "metadata": {},
   "outputs": [],
   "source": [
    "# Use the code provided to select the type per school from school_data\n",
    "school_types = df_school.set_index([\"school_name\"])[\"type\"]\n",
    "school_types"
   ]
  },
  {
   "cell_type": "code",
   "execution_count": null,
   "id": "911d668e",
   "metadata": {},
   "outputs": [],
   "source": [
    "# Calculate the total number of students\n",
    "\n",
    "total_students = merge_student_school.groupby([\"school_name\"]).student_name.count()\n",
    "total_students"
   ]
  },
  {
   "cell_type": "code",
   "execution_count": null,
   "id": "1ae051a4",
   "metadata": {},
   "outputs": [],
   "source": [
    "# Calculate the total budget\n",
    "total_budget = df_school.groupby([\"school_name\"]).budget.sum()\n",
    "total_budget"
   ]
  },
  {
   "cell_type": "code",
   "execution_count": null,
   "id": "d86301ca",
   "metadata": {},
   "outputs": [],
   "source": [
    "# Calculate the total school budget and per capita spending per school from school_data\n",
    "\n",
    "per_school_capita = total_budget / total_students\n",
    "per_school_capita"
   ]
  },
  {
   "cell_type": "code",
   "execution_count": null,
   "id": "dc554ec6",
   "metadata": {},
   "outputs": [],
   "source": [
    "# Calculate the average test scores per school from school_data_complete\n",
    "per_school_math = merge_student_school.groupby([\"school_name\"]).math_score.mean()\n",
    "\n",
    "#per_school_math = merge_student_school.math_score.mean()\n",
    "per_school_reading =merge_student_school.groupby([\"school_name\"]).reading_score.mean()\n",
    "print(per_school_math)\n",
    "per_school_reading\n"
   ]
  },
  {
   "cell_type": "code",
   "execution_count": null,
   "id": "90f39c32",
   "metadata": {},
   "outputs": [],
   "source": [
    "# Calculate the number of students per school with math scores of 70 or higher from school_data_complete\n",
    "students_passing_math = merge_student_school[merge_student_school[\"math_score\"] >= 70]\n",
    "school_students_passing_math = students_passing_math.groupby([\"school_name\"]).math_score.count()\n",
    "school_students_passing_math"
   ]
  },
  {
   "cell_type": "code",
   "execution_count": null,
   "id": "fd104a22",
   "metadata": {},
   "outputs": [],
   "source": [
    "# Calculate the number of students per school with reading scores of 70 or higher from school_data_complete\n",
    "students_passing_reading = merge_student_school[merge_student_school[\"reading_score\"] >= 70]\n",
    "school_students_passing_reading = students_passing_reading.groupby([\"school_name\"]).reading_score.count()\n",
    "school_students_passing_reading"
   ]
  },
  {
   "cell_type": "code",
   "execution_count": null,
   "id": "02872566",
   "metadata": {},
   "outputs": [],
   "source": [
    "# Use the provided code to calculate the number of students per school that passed both math and reading with scores of 70 or higher\n",
    "students_passing_math_and_reading = merge_student_school[\n",
    "    (merge_student_school[\"reading_score\"] >= 70) & (merge_student_school[\"math_score\"] >= 70)\n",
    "]\n",
    "school_students_passing_math_and_reading = students_passing_math_and_reading.groupby([\"school_name\"]).size()\n",
    "school_students_passing_math_and_reading"
   ]
  },
  {
   "cell_type": "code",
   "execution_count": null,
   "id": "341441f3",
   "metadata": {},
   "outputs": [],
   "source": [
    "# Use the provided code to calculate the passing rates\n",
    "per_school_passing_math = school_students_passing_math /total_students * 100\n",
    "per_school_passing_reading = school_students_passing_reading / total_students * 100\n",
    "overall_passing_rate = school_students_passing_math_and_reading / total_students * 100\n",
    "per_school_passing_math\n",
    "per_school_passing_reading\n",
    "overall_passing_rate"
   ]
  },
  {
   "cell_type": "code",
   "execution_count": null,
   "id": "85f5bc38",
   "metadata": {},
   "outputs": [],
   "source": [
    "# Create a DataFrame called `per_school_summary` with columns for the calculations above.\n",
    "per_school_summary =pd.DataFrame({        \n",
    "        \"School Type\" :school_types,\n",
    "        \"Total Students\" : total_students,\n",
    "        \"Total School Budget\" : total_budget,\n",
    "        \"Per Student Budget\" : per_school_capita,\n",
    "        \"Average Math Score\" : per_school_math,\n",
    "        \"Average Reading Score\": per_school_reading,\n",
    "        \"% Passing Math\" : per_school_passing_math,\n",
    "        \"% Passing Reading\" : per_school_passing_reading,\n",
    "        \"% Overall Passing\": overall_passing_rate\n",
    "})\n",
    "\n",
    "# Formatting\n",
    "per_school_summary[\"Total School Budget\"] = per_school_summary[\"Total School Budget\"].map(\"${:,.2f}\".format)\n",
    "#per_school_summary[\"Per Student Budget\"] = per_school_summary[\"Per Student Budget\"].map(\"${:,.2f}\".format)\n",
    "#There is bug in the homework per student budget is required to be a number for the pd.cut later on in the below code, so Commented this format.\n",
    "\n",
    "# Display the DataFrame\n",
    "per_school_summary"
   ]
  },
  {
   "cell_type": "markdown",
   "id": "1b4b50a5",
   "metadata": {},
   "source": [
    "# Highest-Performing Schools (by % Overall Passing)"
   ]
  },
  {
   "cell_type": "code",
   "execution_count": null,
   "id": "611702b0",
   "metadata": {},
   "outputs": [],
   "source": [
    "# Sort the schools by `% Overall Passing` in descending order and display the top 5 rows.\n",
    "top_schools = per_school_summary.sort_values([\"% Overall Passing\"], ascending=False)\n",
    "top_schools.head(5)"
   ]
  },
  {
   "cell_type": "markdown",
   "id": "feb8e1df",
   "metadata": {},
   "source": [
    "# Bottom Performing Schools (By % Overall Passing)"
   ]
  },
  {
   "cell_type": "code",
   "execution_count": null,
   "id": "d150820e",
   "metadata": {},
   "outputs": [],
   "source": [
    "# Sort the schools by `% Overall Passing` in ascending order and display the top 5 rows.\n",
    "bottom_schools =per_school_summary.sort_values([\"% Overall Passing\"], ascending=True)\n",
    "bottom_schools.head(5)"
   ]
  },
  {
   "cell_type": "markdown",
   "id": "e71d157f",
   "metadata": {},
   "source": [
    "# Math Scores by Grade"
   ]
  },
  {
   "cell_type": "code",
   "execution_count": null,
   "id": "e3202f2a",
   "metadata": {},
   "outputs": [],
   "source": [
    "# Use the code provided to separate the data by grade\n",
    "ninth_graders = merge_student_school[( merge_student_school[\"grade\"] == \"9th\")]\n",
    "tenth_graders =  merge_student_school[( merge_student_school[\"grade\"] == \"10th\")]\n",
    "eleventh_graders =  merge_student_school[( merge_student_school[\"grade\"] == \"11th\")]\n",
    "twelfth_graders =  merge_student_school[( merge_student_school[\"grade\"] == \"12th\")]\n",
    "\n",
    "# Group by `school_name` and take the mean of the `math_score` column for each.\n",
    "ninth_grade_math_scores =  ninth_graders.groupby([\"school_name\"])[\"math_score\"].mean()\n",
    "tenth_grade_math_scores =tenth_graders.groupby([\"school_name\"])[\"math_score\"].mean()\n",
    "eleventh_grade_math_scores =eleventh_graders.groupby([\"school_name\"])[\"math_score\"].mean()\n",
    "twelfth_grade_math_scores =twelfth_graders.groupby([\"school_name\"])[\"math_score\"].mean()\n",
    "\n",
    "# Combine each of the scores above into single DataFrame called `math_scores_by_grade`\n",
    "math_scores_by_grade = pd.DataFrame({\n",
    "    \"9th\": ninth_grade_math_scores,\n",
    "    \"10th\": tenth_grade_math_scores,\n",
    "    \"11th\": eleventh_grade_math_scores,\n",
    "    \"12th\": twelfth_grade_math_scores,\n",
    "})\n",
    "\n",
    "# Minor data wrangling\n",
    "math_scores_by_grade.index.name = None\n",
    "\n",
    "# Display the DataFrame\n",
    "math_scores_by_grade"
   ]
  },
  {
   "cell_type": "markdown",
   "id": "3129a869",
   "metadata": {},
   "source": [
    "# Reading Score by Grade"
   ]
  },
  {
   "cell_type": "code",
   "execution_count": null,
   "id": "b641f0cc",
   "metadata": {},
   "outputs": [],
   "source": [
    "# Use the code provided to separate the data by grade\n",
    "ninth_graders = merge_student_school[(merge_student_school[\"grade\"] == \"9th\")]\n",
    "tenth_graders = merge_student_school[(merge_student_school[\"grade\"] == \"10th\")]\n",
    "eleventh_graders = merge_student_school[(merge_student_school[\"grade\"] == \"11th\")]\n",
    "twelfth_graders = merge_student_school[(merge_student_school[\"grade\"] == \"12th\")]\n",
    "\n",
    "# Group by `school_name` and take the mean of the `math_score` column for each.\n",
    "ninth_grade_reading_scores =  ninth_graders.groupby([\"school_name\"])[\"reading_score\"].mean()\n",
    "tenth_grade_reading_scores =tenth_graders.groupby([\"school_name\"])[\"reading_score\"].mean()\n",
    "eleventh_grade_reading_scores =eleventh_graders.groupby([\"school_name\"])[\"reading_score\"].mean()\n",
    "twelfth_grade_reading_scores =twelfth_graders.groupby([\"school_name\"])[\"reading_score\"].mean()\n",
    "\n",
    "# Combine each of the scores above into single DataFrame called `math_scores_by_grade`\n",
    "reading_scores_by_grade = pd.DataFrame({\n",
    "    \"9th\": ninth_grade_reading_scores,\n",
    "    \"10th\": tenth_grade_reading_scores,\n",
    "    \"11th\": eleventh_grade_reading_scores,\n",
    "    \"12th\": twelfth_grade_reading_scores,\n",
    "})\n",
    "\n",
    "# Minor data wrangling\n",
    "reading_scores_by_grade = reading_scores_by_grade[[\"9th\", \"10th\", \"11th\", \"12th\"]]\n",
    "reading_scores_by_grade.index.name = None\n",
    "\n",
    "# Display the DataFrame\n",
    "reading_scores_by_grade"
   ]
  },
  {
   "cell_type": "markdown",
   "id": "475d41e7",
   "metadata": {},
   "source": [
    "# Scores by School Spending"
   ]
  },
  {
   "cell_type": "code",
   "execution_count": null,
   "id": "113ea598",
   "metadata": {},
   "outputs": [],
   "source": [
    "# Establish the bins\n",
    "spending_bins = [0, 585, 630, 645, 680]\n",
    "labels = [\"<$585\", \"$585-630\", \"$630-645\", \"$645-680\"]"
   ]
  },
  {
   "cell_type": "code",
   "execution_count": null,
   "id": "1bc724ad",
   "metadata": {},
   "outputs": [],
   "source": [
    "# Create a copy of the school summary since it has the \"Per Student Budget\"\n",
    "school_spending_df = per_school_summary.copy()\n",
    "#school_spending_df.info()"
   ]
  },
  {
   "cell_type": "code",
   "execution_count": null,
   "id": "5f9ea2b3",
   "metadata": {},
   "outputs": [],
   "source": [
    "# Use `pd.cut` to categorize spending based on the bins.\n",
    "\n",
    "school_spending_df[\"Spending Ranges (Per Student)\"] = pd.cut(school_spending_df[\"Per Student Budget\"],spending_bins,labels=labels,include_lowest=True)\n",
    "school_spending_df"
   ]
  },
  {
   "cell_type": "code",
   "execution_count": null,
   "id": "9cd1e1d4",
   "metadata": {},
   "outputs": [],
   "source": []
  },
  {
   "cell_type": "code",
   "execution_count": null,
   "id": "e348edb9",
   "metadata": {},
   "outputs": [],
   "source": [
    "#  Calculate averages for the desired columns.\n",
    "spending_math_scores = school_spending_df.groupby([\"Spending Ranges (Per Student)\"])[\"Average Math Score\"].mean()\n",
    "spending_reading_scores = school_spending_df.groupby([\"Spending Ranges (Per Student)\"])[\"Average Reading Score\"].mean()\n",
    "spending_passing_math = school_spending_df.groupby([\"Spending Ranges (Per Student)\"])[\"% Passing Math\"].mean()\n",
    "spending_passing_reading = school_spending_df.groupby([\"Spending Ranges (Per Student)\"])[\"% Passing Reading\"].mean()\n",
    "overall_passing_spending = school_spending_df.groupby([\"Spending Ranges (Per Student)\"])[\"% Overall Passing\"].mean()"
   ]
  },
  {
   "cell_type": "code",
   "execution_count": null,
   "id": "22fff858",
   "metadata": {},
   "outputs": [],
   "source": [
    "# Assemble into DataFrame\n",
    "spending_summary =pd.DataFrame({\n",
    "    \"Average Math Score\" :spending_math_scores,\n",
    "    \"Average Reading Score\" : spending_reading_scores,\n",
    "    \"% Passing Math\" : spending_passing_math,\n",
    "    \"% Passing Reading\" : spending_passing_reading,\n",
    "    \"% Overall Passing\" : overall_passing_spending\n",
    "})\n",
    "\n",
    "# Display results\n",
    "spending_summary"
   ]
  },
  {
   "cell_type": "markdown",
   "id": "6bb2fd2b",
   "metadata": {},
   "source": [
    "# Scores by School Size"
   ]
  },
  {
   "cell_type": "code",
   "execution_count": null,
   "id": "21540c24",
   "metadata": {},
   "outputs": [],
   "source": [
    "# Establish the bins.\n",
    "size_bins = [0, 1000, 2000, 5000]\n",
    "labels = [\"Small (<1000)\", \"Medium (1000-2000)\", \"Large (2000-5000)\"]"
   ]
  },
  {
   "cell_type": "code",
   "execution_count": null,
   "id": "8a3ac1e3",
   "metadata": {},
   "outputs": [],
   "source": [
    "# Categorize the spending based on the bins\n",
    "# Use `pd.cut` on the \"Total Students\" column of the `per_school_summary` DataFrame.\n",
    "\n",
    "per_school_summary[\"School Size\"] = pd.cut(school_spending_df[\"Total Students\"],size_bins,labels=labels,include_lowest=True)\n",
    "per_school_summary\n"
   ]
  },
  {
   "cell_type": "code",
   "execution_count": null,
   "id": "ebc54328",
   "metadata": {},
   "outputs": [],
   "source": [
    "# Calculate averages for the desired columns.\n",
    "size_math_scores = per_school_summary.groupby([\"School Size\"])[\"Average Math Score\"].mean()\n",
    "size_reading_scores = per_school_summary.groupby([\"School Size\"])[\"Average Reading Score\"].mean()\n",
    "size_passing_math = per_school_summary.groupby([\"School Size\"])[\"% Passing Math\"].mean()\n",
    "size_passing_reading = per_school_summary.groupby([\"School Size\"])[\"% Passing Reading\"].mean()\n",
    "size_overall_passing = per_school_summary.groupby([\"School Size\"])[\"% Overall Passing\"].mean()"
   ]
  },
  {
   "cell_type": "code",
   "execution_count": null,
   "id": "844f9d9c",
   "metadata": {},
   "outputs": [],
   "source": [
    "# Create a DataFrame called `size_summary` that breaks down school performance based on school size (small, medium, or large).\n",
    "# Use the scores above to create a new DataFrame called `size_summary`\n",
    "size_summary =pd.DataFrame({\n",
    "    \"Average Math Score\" :size_math_scores,\n",
    "    \"Average Reading Score\" : size_reading_scores,\n",
    "    \"% Passing Math\" : size_passing_math,\n",
    "    \"% Passing Reading\" : size_passing_reading,\n",
    "    \"% Overall Passing\" : size_overall_passing\n",
    "})\n",
    "\n",
    "\n",
    "\n",
    "# Display results\n",
    "size_summary"
   ]
  },
  {
   "cell_type": "markdown",
   "id": "22f43a9d",
   "metadata": {},
   "source": [
    "# Scores by School Type"
   ]
  },
  {
   "cell_type": "code",
   "execution_count": null,
   "id": "32a568ef",
   "metadata": {},
   "outputs": [],
   "source": [
    "# Group the per_school_summary DataFrame by \"School Type\" and average the results.\n",
    "average_math_score_by_type = per_school_summary.groupby([\"School Type\"])[\"Average Math Score\"].mean()\n",
    "average_reading_score_by_type = per_school_summary.groupby([\"School Type\"])[\"Average Reading Score\"].mean()\n",
    "average_percent_passing_math_by_type = per_school_summary.groupby([\"School Type\"])[\"% Passing Math\"].mean()\n",
    "average_percent_passing_reading_by_type = per_school_summary.groupby([\"School Type\"])[\"% Passing Reading\"].mean()\n",
    "average_percent_overall_passing_by_type = per_school_summary.groupby([\"School Type\"])[\"% Overall Passing\"].mean()"
   ]
  },
  {
   "cell_type": "code",
   "execution_count": null,
   "id": "ff456d96",
   "metadata": {},
   "outputs": [],
   "source": [
    "# Assemble the new data by type into a DataFrame called `type_summary`\n",
    "type_summary =pd.DataFrame({\n",
    "    \"Average Math Score\" :average_math_score_by_type,\n",
    "    \"Average Reading Score\" : average_reading_score_by_type,\n",
    "    \"% Passing Math\" : average_percent_passing_math_by_type,\n",
    "    \"% Passing Reading\" : average_percent_passing_reading_by_type,\n",
    "    \"% Overall Passing\" : average_percent_overall_passing_by_type\n",
    "})\n",
    "\n",
    "# Display results\n",
    "type_summary"
   ]
  }
 ],
 "metadata": {
  "kernelspec": {
   "display_name": "Python 3 (ipykernel)",
   "language": "python",
   "name": "python3"
  },
  "language_info": {
   "codemirror_mode": {
    "name": "ipython",
    "version": 3
   },
   "file_extension": ".py",
   "mimetype": "text/x-python",
   "name": "python",
   "nbconvert_exporter": "python",
   "pygments_lexer": "ipython3",
   "version": "3.11.7"
  }
 },
 "nbformat": 4,
 "nbformat_minor": 5
}
